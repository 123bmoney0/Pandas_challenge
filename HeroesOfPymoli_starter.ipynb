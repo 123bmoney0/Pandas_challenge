{
 "cells": [
  {
   "cell_type": "markdown",
   "metadata": {},
   "source": [
    "### Note\n",
    "* Instructions have been included for each segment. You do not have to follow them exactly, but they are included to help you think through the steps."
   ]
  },
  {
   "cell_type": "code",
   "execution_count": 1,
   "metadata": {},
   "outputs": [
    {
     "data": {
      "text/html": [
       "<div>\n",
       "<style scoped>\n",
       "    .dataframe tbody tr th:only-of-type {\n",
       "        vertical-align: middle;\n",
       "    }\n",
       "\n",
       "    .dataframe tbody tr th {\n",
       "        vertical-align: top;\n",
       "    }\n",
       "\n",
       "    .dataframe thead th {\n",
       "        text-align: right;\n",
       "    }\n",
       "</style>\n",
       "<table border=\"1\" class=\"dataframe\">\n",
       "  <thead>\n",
       "    <tr style=\"text-align: right;\">\n",
       "      <th></th>\n",
       "      <th>Purchase ID</th>\n",
       "      <th>SN</th>\n",
       "      <th>Age</th>\n",
       "      <th>Gender</th>\n",
       "      <th>Item ID</th>\n",
       "      <th>Item Name</th>\n",
       "      <th>Price</th>\n",
       "    </tr>\n",
       "  </thead>\n",
       "  <tbody>\n",
       "    <tr>\n",
       "      <th>0</th>\n",
       "      <td>0</td>\n",
       "      <td>Lisim78</td>\n",
       "      <td>20</td>\n",
       "      <td>Male</td>\n",
       "      <td>108</td>\n",
       "      <td>Extraction, Quickblade Of Trembling Hands</td>\n",
       "      <td>3.53</td>\n",
       "    </tr>\n",
       "    <tr>\n",
       "      <th>1</th>\n",
       "      <td>1</td>\n",
       "      <td>Lisovynya38</td>\n",
       "      <td>40</td>\n",
       "      <td>Male</td>\n",
       "      <td>143</td>\n",
       "      <td>Frenzied Scimitar</td>\n",
       "      <td>1.56</td>\n",
       "    </tr>\n",
       "    <tr>\n",
       "      <th>2</th>\n",
       "      <td>2</td>\n",
       "      <td>Ithergue48</td>\n",
       "      <td>24</td>\n",
       "      <td>Male</td>\n",
       "      <td>92</td>\n",
       "      <td>Final Critic</td>\n",
       "      <td>4.88</td>\n",
       "    </tr>\n",
       "    <tr>\n",
       "      <th>3</th>\n",
       "      <td>3</td>\n",
       "      <td>Chamassasya86</td>\n",
       "      <td>24</td>\n",
       "      <td>Male</td>\n",
       "      <td>100</td>\n",
       "      <td>Blindscythe</td>\n",
       "      <td>3.27</td>\n",
       "    </tr>\n",
       "    <tr>\n",
       "      <th>4</th>\n",
       "      <td>4</td>\n",
       "      <td>Iskosia90</td>\n",
       "      <td>23</td>\n",
       "      <td>Male</td>\n",
       "      <td>131</td>\n",
       "      <td>Fury</td>\n",
       "      <td>1.44</td>\n",
       "    </tr>\n",
       "  </tbody>\n",
       "</table>\n",
       "</div>"
      ],
      "text/plain": [
       "   Purchase ID             SN  Age Gender  Item ID  \\\n",
       "0            0        Lisim78   20   Male      108   \n",
       "1            1    Lisovynya38   40   Male      143   \n",
       "2            2     Ithergue48   24   Male       92   \n",
       "3            3  Chamassasya86   24   Male      100   \n",
       "4            4      Iskosia90   23   Male      131   \n",
       "\n",
       "                                   Item Name  Price  \n",
       "0  Extraction, Quickblade Of Trembling Hands   3.53  \n",
       "1                          Frenzied Scimitar   1.56  \n",
       "2                               Final Critic   4.88  \n",
       "3                                Blindscythe   3.27  \n",
       "4                                       Fury   1.44  "
      ]
     },
     "execution_count": 1,
     "metadata": {},
     "output_type": "execute_result"
    }
   ],
   "source": [
    "# Dependencies and Setup\n",
    "import pandas as pd\n",
    "import numpy as np\n",
    "\n",
    "# File to Load (Remember to Change These)\n",
    "file_to_load = \"Resources/purchase_data.csv\"\n",
    "\n",
    "# Read Purchasing File and store into Pandas data frame\n",
    "purchase_data = pd.read_csv(file_to_load)\n",
    "purchase_data.head()"
   ]
  },
  {
   "cell_type": "markdown",
   "metadata": {},
   "source": [
    "## Player Count"
   ]
  },
  {
   "cell_type": "markdown",
   "metadata": {},
   "source": [
    "* Display the total number of players\n"
   ]
  },
  {
   "cell_type": "code",
   "execution_count": 4,
   "metadata": {},
   "outputs": [
    {
     "data": {
      "text/html": [
       "<div>\n",
       "<style scoped>\n",
       "    .dataframe tbody tr th:only-of-type {\n",
       "        vertical-align: middle;\n",
       "    }\n",
       "\n",
       "    .dataframe tbody tr th {\n",
       "        vertical-align: top;\n",
       "    }\n",
       "\n",
       "    .dataframe thead th {\n",
       "        text-align: right;\n",
       "    }\n",
       "</style>\n",
       "<table border=\"1\" class=\"dataframe\">\n",
       "  <thead>\n",
       "    <tr style=\"text-align: right;\">\n",
       "      <th></th>\n",
       "      <th>Total Number of Players</th>\n",
       "    </tr>\n",
       "  </thead>\n",
       "  <tbody>\n",
       "    <tr>\n",
       "      <th>0</th>\n",
       "      <td>576</td>\n",
       "    </tr>\n",
       "  </tbody>\n",
       "</table>\n",
       "</div>"
      ],
      "text/plain": [
       "   Total Number of Players\n",
       "0                      576"
      ]
     },
     "execution_count": 4,
     "metadata": {},
     "output_type": "execute_result"
    }
   ],
   "source": [
    "#Total Player Count(TNP) Based \"SN\"\n",
    "\n",
    "TNP = len(purchase_data[\"SN\"].value_counts())\n",
    "\n",
    "#Created Data frame for player count\n",
    "players = pd.DataFrame({\"Total Number of Players\": [TNP]})\n",
    "players\n"
   ]
  },
  {
   "cell_type": "markdown",
   "metadata": {},
   "source": [
    "## Purchasing Analysis (Total)"
   ]
  },
  {
   "cell_type": "markdown",
   "metadata": {},
   "source": [
    "* Run basic calculations to obtain number of unique items, average price, etc.\n",
    "\n",
    "\n",
    "* Create a summary data frame to hold the results\n",
    "\n",
    "\n",
    "* Optional: give the displayed data cleaner formatting\n",
    "\n",
    "\n",
    "* Display the summary data frame\n"
   ]
  },
  {
   "cell_type": "code",
   "execution_count": 11,
   "metadata": {
    "scrolled": true
   },
   "outputs": [
    {
     "data": {
      "text/html": [
       "<div>\n",
       "<style scoped>\n",
       "    .dataframe tbody tr th:only-of-type {\n",
       "        vertical-align: middle;\n",
       "    }\n",
       "\n",
       "    .dataframe tbody tr th {\n",
       "        vertical-align: top;\n",
       "    }\n",
       "\n",
       "    .dataframe thead th {\n",
       "        text-align: right;\n",
       "    }\n",
       "</style>\n",
       "<table border=\"1\" class=\"dataframe\">\n",
       "  <thead>\n",
       "    <tr style=\"text-align: right;\">\n",
       "      <th></th>\n",
       "      <th>Number of Unique Items</th>\n",
       "      <th>Average Price</th>\n",
       "      <th>Number of Purchases</th>\n",
       "      <th>Total Revenue</th>\n",
       "    </tr>\n",
       "  </thead>\n",
       "  <tbody>\n",
       "    <tr>\n",
       "      <th>0</th>\n",
       "      <td>183</td>\n",
       "      <td>$3.05</td>\n",
       "      <td>780</td>\n",
       "      <td>$2379.77</td>\n",
       "    </tr>\n",
       "  </tbody>\n",
       "</table>\n",
       "</div>"
      ],
      "text/plain": [
       "   Number of Unique Items Average Price  Number of Purchases Total Revenue\n",
       "0                     183         $3.05                  780      $2379.77"
      ]
     },
     "execution_count": 11,
     "metadata": {},
     "output_type": "execute_result"
    }
   ],
   "source": [
    "UI = len((purchase_data[\"Item ID\"]).unique())\n",
    "AP = purchase_data[\"Price\"].mean()\n",
    "AP = \"${:.2f}\".format(AP)\n",
    "NOP = purchase_data[\"Item Name\"].count()\n",
    "TR = purchase_data[\"Price\"].sum()\n",
    "TR = \"${:.2f}\".format(TR)\n",
    "\n",
    "Basic_Calculations_df = pd.DataFrame({\"Number of Unique Items\":[UI], \"Average Price\":[AP], \n",
    "                                   \"Number of Purchases\": [NOP], \"Total Revenue\": [TR]})\n",
    "Basic_Calculations_df\n",
    "\n"
   ]
  },
  {
   "cell_type": "markdown",
   "metadata": {},
   "source": [
    "## Gender Demographics"
   ]
  },
  {
   "cell_type": "markdown",
   "metadata": {},
   "source": [
    "* Percentage and Count of Male Players\n",
    "\n",
    "\n",
    "* Percentage and Count of Female Players\n",
    "\n",
    "\n",
    "* Percentage and Count of Other / Non-Disclosed\n",
    "\n",
    "\n"
   ]
  },
  {
   "cell_type": "code",
   "execution_count": 28,
   "metadata": {},
   "outputs": [
    {
     "data": {
      "text/html": [
       "<div>\n",
       "<style scoped>\n",
       "    .dataframe tbody tr th:only-of-type {\n",
       "        vertical-align: middle;\n",
       "    }\n",
       "\n",
       "    .dataframe tbody tr th {\n",
       "        vertical-align: top;\n",
       "    }\n",
       "\n",
       "    .dataframe thead th {\n",
       "        text-align: right;\n",
       "    }\n",
       "</style>\n",
       "<table border=\"1\" class=\"dataframe\">\n",
       "  <thead>\n",
       "    <tr style=\"text-align: right;\">\n",
       "      <th></th>\n",
       "      <th>Total Count</th>\n",
       "      <th>Percentage of Players</th>\n",
       "    </tr>\n",
       "  </thead>\n",
       "  <tbody>\n",
       "    <tr>\n",
       "      <th>Male</th>\n",
       "      <td>484</td>\n",
       "      <td>84.03%</td>\n",
       "    </tr>\n",
       "    <tr>\n",
       "      <th>Female</th>\n",
       "      <td>81</td>\n",
       "      <td>14.06%</td>\n",
       "    </tr>\n",
       "    <tr>\n",
       "      <th>Other / Non-Disclosed</th>\n",
       "      <td>11</td>\n",
       "      <td>1.91%</td>\n",
       "    </tr>\n",
       "  </tbody>\n",
       "</table>\n",
       "</div>"
      ],
      "text/plain": [
       "                       Total Count Percentage of Players\n",
       "Male                           484                84.03%\n",
       "Female                          81                14.06%\n",
       "Other / Non-Disclosed           11                 1.91%"
      ]
     },
     "execution_count": 28,
     "metadata": {},
     "output_type": "execute_result"
    }
   ],
   "source": [
    "Gender_mix = purchase_data.groupby('Gender').nunique()\n",
    "Gender_mix['Percentage of Players'] = ((Gender_mix['SN']/TNP)*100).map('{:.2f}%'.format)\n",
    "Gender_mix.index.name = None\n",
    "Gender_mix.rename(columns={\"SN\": \"Total Count\"},inplace=True)\n",
    "Gender_mix.sort_values('Total Count', ascending=False,inplace=True)\n",
    "Gender_mix.filter(items=['Total Count', 'Percentage of Players'])"
   ]
  },
  {
   "cell_type": "markdown",
   "metadata": {},
   "source": [
    "\n",
    "## Purchasing Analysis (Gender)"
   ]
  },
  {
   "cell_type": "markdown",
   "metadata": {},
   "source": [
    "* Run basic calculations to obtain purchase count, avg. purchase price, avg. purchase total per person etc. by gender\n",
    "\n",
    "\n",
    "\n",
    "\n",
    "* Create a summary data frame to hold the results\n",
    "\n",
    "\n",
    "* Optional: give the displayed data cleaner formatting\n",
    "\n",
    "\n",
    "* Display the summary data frame"
   ]
  },
  {
   "cell_type": "code",
   "execution_count": 93,
   "metadata": {},
   "outputs": [
    {
     "data": {
      "text/html": [
       "<div>\n",
       "<style scoped>\n",
       "    .dataframe tbody tr th:only-of-type {\n",
       "        vertical-align: middle;\n",
       "    }\n",
       "\n",
       "    .dataframe tbody tr th {\n",
       "        vertical-align: top;\n",
       "    }\n",
       "\n",
       "    .dataframe thead th {\n",
       "        text-align: right;\n",
       "    }\n",
       "</style>\n",
       "<table border=\"1\" class=\"dataframe\">\n",
       "  <thead>\n",
       "    <tr style=\"text-align: right;\">\n",
       "      <th></th>\n",
       "      <th>Purchase Count</th>\n",
       "      <th>Average Purchase Price</th>\n",
       "      <th>Total Purchase Value</th>\n",
       "      <th>Avg Purchase Total per Person</th>\n",
       "    </tr>\n",
       "    <tr>\n",
       "      <th>Gender</th>\n",
       "      <th></th>\n",
       "      <th></th>\n",
       "      <th></th>\n",
       "      <th></th>\n",
       "    </tr>\n",
       "  </thead>\n",
       "  <tbody>\n",
       "    <tr>\n",
       "      <th>0</th>\n",
       "      <td>Gender\n",
       "Female                   113\n",
       "Male      ...</td>\n",
       "      <td>Gender\n",
       "Female                   3.203009\n",
       "Male ...</td>\n",
       "      <td>Gender\n",
       "Female                    361.94\n",
       "Male  ...</td>\n",
       "      <td>Gender\n",
       "Female                   3.203009\n",
       "Male ...</td>\n",
       "    </tr>\n",
       "  </tbody>\n",
       "</table>\n",
       "</div>"
      ],
      "text/plain": [
       "                                           Purchase Count  \\\n",
       "Gender                                                      \n",
       "0       Gender\n",
       "Female                   113\n",
       "Male      ...   \n",
       "\n",
       "                                   Average Purchase Price  \\\n",
       "Gender                                                      \n",
       "0       Gender\n",
       "Female                   3.203009\n",
       "Male ...   \n",
       "\n",
       "                                     Total Purchase Value  \\\n",
       "Gender                                                      \n",
       "0       Gender\n",
       "Female                    361.94\n",
       "Male  ...   \n",
       "\n",
       "                            Avg Purchase Total per Person  \n",
       "Gender                                                     \n",
       "0       Gender\n",
       "Female                   3.203009\n",
       "Male ...  "
      ]
     },
     "execution_count": 93,
     "metadata": {},
     "output_type": "execute_result"
    }
   ],
   "source": [
    "Gender_Analysis = purchase_data.groupby(\"Gender\")\n",
    "Gender_purchases = Gender_Analysis[\"Purchase ID\"].count()\n",
    "Average_Purchase_Gender = Gender_Analysis[\"Price\"].mean()\n",
    "Total_Purchase_Gender = Gender_Analysis[\"Price\"].sum()\n",
    "Per_Person_Average = Total_Purchase_Gender/Gender_purchases\n",
    "\n",
    "Purchasing_Analysis = pd.DataFrame({\"Purchase Count\": [Gender_purchases], \"Average Purchase Price\": [Average_Purchase_Gender],\n",
    "                                    \"Total Purchase Value\":[Total_Purchase_Gender], \"Avg Purchase Total per Person\": [Per_Person_Average]})\n",
    "Purchasing_Analysis.index.name = \"Gender\"\n",
    "Purchasing_Analysis\n"
   ]
  },
  {
   "cell_type": "markdown",
   "metadata": {},
   "source": [
    "## Age Demographics"
   ]
  },
  {
   "cell_type": "markdown",
   "metadata": {},
   "source": [
    "* Establish bins for ages\n",
    "\n",
    "\n",
    "* Categorize the existing players using the age bins. Hint: use pd.cut()\n",
    "\n",
    "\n",
    "* Calculate the numbers and percentages by age group\n",
    "\n",
    "\n",
    "* Create a summary data frame to hold the results\n",
    "\n",
    "\n",
    "* Optional: round the percentage column to two decimal points\n",
    "\n",
    "\n",
    "* Display Age Demographics Table\n"
   ]
  },
  {
   "cell_type": "code",
   "execution_count": 101,
   "metadata": {},
   "outputs": [
    {
     "data": {
      "text/html": [
       "<style  type=\"text/css\" >\n",
       "</style><table id=\"T_a3f2db64_df22_11e9_8e73_380025646c1a\" ><thead>    <tr>        <th class=\"blank level0\" ></th>        <th class=\"col_heading level0 col0\" >Percentage of Players</th>        <th class=\"col_heading level0 col1\" >Total Count</th>    </tr></thead><tbody>\n",
       "                <tr>\n",
       "                        <th id=\"T_a3f2db64_df22_11e9_8e73_380025646c1alevel0_row0\" class=\"row_heading level0 row0\" ><10</th>\n",
       "                        <td id=\"T_a3f2db64_df22_11e9_8e73_380025646c1arow0_col0\" class=\"data row0 col0\" >3.99%</td>\n",
       "                        <td id=\"T_a3f2db64_df22_11e9_8e73_380025646c1arow0_col1\" class=\"data row0 col1\" >23</td>\n",
       "            </tr>\n",
       "            <tr>\n",
       "                        <th id=\"T_a3f2db64_df22_11e9_8e73_380025646c1alevel0_row1\" class=\"row_heading level0 row1\" >10-14</th>\n",
       "                        <td id=\"T_a3f2db64_df22_11e9_8e73_380025646c1arow1_col0\" class=\"data row1 col0\" >4.86%</td>\n",
       "                        <td id=\"T_a3f2db64_df22_11e9_8e73_380025646c1arow1_col1\" class=\"data row1 col1\" >28</td>\n",
       "            </tr>\n",
       "            <tr>\n",
       "                        <th id=\"T_a3f2db64_df22_11e9_8e73_380025646c1alevel0_row2\" class=\"row_heading level0 row2\" >15-19</th>\n",
       "                        <td id=\"T_a3f2db64_df22_11e9_8e73_380025646c1arow2_col0\" class=\"data row2 col0\" >23.61%</td>\n",
       "                        <td id=\"T_a3f2db64_df22_11e9_8e73_380025646c1arow2_col1\" class=\"data row2 col1\" >136</td>\n",
       "            </tr>\n",
       "            <tr>\n",
       "                        <th id=\"T_a3f2db64_df22_11e9_8e73_380025646c1alevel0_row3\" class=\"row_heading level0 row3\" >20-24</th>\n",
       "                        <td id=\"T_a3f2db64_df22_11e9_8e73_380025646c1arow3_col0\" class=\"data row3 col0\" >63.37%</td>\n",
       "                        <td id=\"T_a3f2db64_df22_11e9_8e73_380025646c1arow3_col1\" class=\"data row3 col1\" >365</td>\n",
       "            </tr>\n",
       "            <tr>\n",
       "                        <th id=\"T_a3f2db64_df22_11e9_8e73_380025646c1alevel0_row4\" class=\"row_heading level0 row4\" >25-29</th>\n",
       "                        <td id=\"T_a3f2db64_df22_11e9_8e73_380025646c1arow4_col0\" class=\"data row4 col0\" >17.53%</td>\n",
       "                        <td id=\"T_a3f2db64_df22_11e9_8e73_380025646c1arow4_col1\" class=\"data row4 col1\" >101</td>\n",
       "            </tr>\n",
       "            <tr>\n",
       "                        <th id=\"T_a3f2db64_df22_11e9_8e73_380025646c1alevel0_row5\" class=\"row_heading level0 row5\" >30-34</th>\n",
       "                        <td id=\"T_a3f2db64_df22_11e9_8e73_380025646c1arow5_col0\" class=\"data row5 col0\" >12.67%</td>\n",
       "                        <td id=\"T_a3f2db64_df22_11e9_8e73_380025646c1arow5_col1\" class=\"data row5 col1\" >73</td>\n",
       "            </tr>\n",
       "            <tr>\n",
       "                        <th id=\"T_a3f2db64_df22_11e9_8e73_380025646c1alevel0_row6\" class=\"row_heading level0 row6\" >35-39</th>\n",
       "                        <td id=\"T_a3f2db64_df22_11e9_8e73_380025646c1arow6_col0\" class=\"data row6 col0\" >7.12%</td>\n",
       "                        <td id=\"T_a3f2db64_df22_11e9_8e73_380025646c1arow6_col1\" class=\"data row6 col1\" >41</td>\n",
       "            </tr>\n",
       "            <tr>\n",
       "                        <th id=\"T_a3f2db64_df22_11e9_8e73_380025646c1alevel0_row7\" class=\"row_heading level0 row7\" >40+</th>\n",
       "                        <td id=\"T_a3f2db64_df22_11e9_8e73_380025646c1arow7_col0\" class=\"data row7 col0\" >2.26%</td>\n",
       "                        <td id=\"T_a3f2db64_df22_11e9_8e73_380025646c1arow7_col1\" class=\"data row7 col1\" >13</td>\n",
       "            </tr>\n",
       "    </tbody></table>"
      ],
      "text/plain": [
       "<pandas.io.formats.style.Styler at 0x236aa503320>"
      ]
     },
     "execution_count": 101,
     "metadata": {},
     "output_type": "execute_result"
    }
   ],
   "source": [
    "Age_bins = [0, 9.90, 14.90, 19.90, 24.90, 29.90, 34.90, 39.90, 99999]\n",
    "Age_groups = [\"<10\", \"10-14\", \"15-19\", \"20-24\", \"25-29\", \"30-34\", \"35-39\", \"40+\"]\n",
    "purchase_data[\"Age Group\"] = pd.cut(purchase_data[\"Age\"],Age_bins, labels=Age_groups)\n",
    "purchase_data\n",
    "\n",
    "\n",
    "age_grouped = purchase_data.groupby(\"Age Group\")\n",
    "total_count_by_age = age_grouped[\"Age\"].count()\n",
    "percentage_by_age_group = (age_grouped.count()[\"Age\"]/TNP) * 100\n",
    "\n",
    "\n",
    "age_demographics = pd.DataFrame({\"Percentage of Players\": percentage_by_age, \"Total Count\": total_count_age})\n",
    "age_demographics.index.name = None\n",
    "age_demographics.style.format({\"Percentage of Players\":\"{:,.2f}%\"})\n"
   ]
  },
  {
   "cell_type": "markdown",
   "metadata": {},
   "source": [
    "## Purchasing Analysis (Age)"
   ]
  },
  {
   "cell_type": "markdown",
   "metadata": {},
   "source": [
    "* Bin the purchase_data data frame by age\n",
    "\n",
    "\n",
    "* Run basic calculations to obtain purchase count, avg. purchase price, avg. purchase total per person etc. in the table below\n",
    "\n",
    "\n",
    "* Create a summary data frame to hold the results\n",
    "\n",
    "\n",
    "* Optional: give the displayed data cleaner formatting\n",
    "\n",
    "\n",
    "* Display the summary data frame"
   ]
  },
  {
   "cell_type": "code",
   "execution_count": 95,
   "metadata": {},
   "outputs": [
    {
     "data": {
      "text/html": [
       "<style  type=\"text/css\" >\n",
       "</style><table id=\"T_4ff85234_df1e_11e9_b1ed_380025646c1a\" ><thead>    <tr>        <th class=\"blank level0\" ></th>        <th class=\"col_heading level0 col0\" >Purchase Count</th>        <th class=\"col_heading level0 col1\" >Average Purchase Price</th>        <th class=\"col_heading level0 col2\" >Total Purchase Value</th>        <th class=\"col_heading level0 col3\" >Average Purchase Total per Person</th>    </tr></thead><tbody>\n",
       "                <tr>\n",
       "                        <th id=\"T_4ff85234_df1e_11e9_b1ed_380025646c1alevel0_row0\" class=\"row_heading level0 row0\" ><10</th>\n",
       "                        <td id=\"T_4ff85234_df1e_11e9_b1ed_380025646c1arow0_col0\" class=\"data row0 col0\" >23</td>\n",
       "                        <td id=\"T_4ff85234_df1e_11e9_b1ed_380025646c1arow0_col1\" class=\"data row0 col1\" >$3.35</td>\n",
       "                        <td id=\"T_4ff85234_df1e_11e9_b1ed_380025646c1arow0_col2\" class=\"data row0 col2\" >$77.13</td>\n",
       "                        <td id=\"T_4ff85234_df1e_11e9_b1ed_380025646c1arow0_col3\" class=\"data row0 col3\" >$3.35</td>\n",
       "            </tr>\n",
       "            <tr>\n",
       "                        <th id=\"T_4ff85234_df1e_11e9_b1ed_380025646c1alevel0_row1\" class=\"row_heading level0 row1\" >10-14</th>\n",
       "                        <td id=\"T_4ff85234_df1e_11e9_b1ed_380025646c1arow1_col0\" class=\"data row1 col0\" >28</td>\n",
       "                        <td id=\"T_4ff85234_df1e_11e9_b1ed_380025646c1arow1_col1\" class=\"data row1 col1\" >$2.96</td>\n",
       "                        <td id=\"T_4ff85234_df1e_11e9_b1ed_380025646c1arow1_col2\" class=\"data row1 col2\" >$82.78</td>\n",
       "                        <td id=\"T_4ff85234_df1e_11e9_b1ed_380025646c1arow1_col3\" class=\"data row1 col3\" >$2.96</td>\n",
       "            </tr>\n",
       "            <tr>\n",
       "                        <th id=\"T_4ff85234_df1e_11e9_b1ed_380025646c1alevel0_row2\" class=\"row_heading level0 row2\" >15-19</th>\n",
       "                        <td id=\"T_4ff85234_df1e_11e9_b1ed_380025646c1arow2_col0\" class=\"data row2 col0\" >136</td>\n",
       "                        <td id=\"T_4ff85234_df1e_11e9_b1ed_380025646c1arow2_col1\" class=\"data row2 col1\" >$3.04</td>\n",
       "                        <td id=\"T_4ff85234_df1e_11e9_b1ed_380025646c1arow2_col2\" class=\"data row2 col2\" >$412.89</td>\n",
       "                        <td id=\"T_4ff85234_df1e_11e9_b1ed_380025646c1arow2_col3\" class=\"data row2 col3\" >$3.04</td>\n",
       "            </tr>\n",
       "            <tr>\n",
       "                        <th id=\"T_4ff85234_df1e_11e9_b1ed_380025646c1alevel0_row3\" class=\"row_heading level0 row3\" >20-24</th>\n",
       "                        <td id=\"T_4ff85234_df1e_11e9_b1ed_380025646c1arow3_col0\" class=\"data row3 col0\" >365</td>\n",
       "                        <td id=\"T_4ff85234_df1e_11e9_b1ed_380025646c1arow3_col1\" class=\"data row3 col1\" >$3.05</td>\n",
       "                        <td id=\"T_4ff85234_df1e_11e9_b1ed_380025646c1arow3_col2\" class=\"data row3 col2\" >$1,114.06</td>\n",
       "                        <td id=\"T_4ff85234_df1e_11e9_b1ed_380025646c1arow3_col3\" class=\"data row3 col3\" >$3.05</td>\n",
       "            </tr>\n",
       "            <tr>\n",
       "                        <th id=\"T_4ff85234_df1e_11e9_b1ed_380025646c1alevel0_row4\" class=\"row_heading level0 row4\" >25-29</th>\n",
       "                        <td id=\"T_4ff85234_df1e_11e9_b1ed_380025646c1arow4_col0\" class=\"data row4 col0\" >101</td>\n",
       "                        <td id=\"T_4ff85234_df1e_11e9_b1ed_380025646c1arow4_col1\" class=\"data row4 col1\" >$2.90</td>\n",
       "                        <td id=\"T_4ff85234_df1e_11e9_b1ed_380025646c1arow4_col2\" class=\"data row4 col2\" >$293.00</td>\n",
       "                        <td id=\"T_4ff85234_df1e_11e9_b1ed_380025646c1arow4_col3\" class=\"data row4 col3\" >$2.90</td>\n",
       "            </tr>\n",
       "            <tr>\n",
       "                        <th id=\"T_4ff85234_df1e_11e9_b1ed_380025646c1alevel0_row5\" class=\"row_heading level0 row5\" >30-34</th>\n",
       "                        <td id=\"T_4ff85234_df1e_11e9_b1ed_380025646c1arow5_col0\" class=\"data row5 col0\" >73</td>\n",
       "                        <td id=\"T_4ff85234_df1e_11e9_b1ed_380025646c1arow5_col1\" class=\"data row5 col1\" >$2.93</td>\n",
       "                        <td id=\"T_4ff85234_df1e_11e9_b1ed_380025646c1arow5_col2\" class=\"data row5 col2\" >$214.00</td>\n",
       "                        <td id=\"T_4ff85234_df1e_11e9_b1ed_380025646c1arow5_col3\" class=\"data row5 col3\" >$2.93</td>\n",
       "            </tr>\n",
       "            <tr>\n",
       "                        <th id=\"T_4ff85234_df1e_11e9_b1ed_380025646c1alevel0_row6\" class=\"row_heading level0 row6\" >35-39</th>\n",
       "                        <td id=\"T_4ff85234_df1e_11e9_b1ed_380025646c1arow6_col0\" class=\"data row6 col0\" >41</td>\n",
       "                        <td id=\"T_4ff85234_df1e_11e9_b1ed_380025646c1arow6_col1\" class=\"data row6 col1\" >$3.60</td>\n",
       "                        <td id=\"T_4ff85234_df1e_11e9_b1ed_380025646c1arow6_col2\" class=\"data row6 col2\" >$147.67</td>\n",
       "                        <td id=\"T_4ff85234_df1e_11e9_b1ed_380025646c1arow6_col3\" class=\"data row6 col3\" >$3.60</td>\n",
       "            </tr>\n",
       "            <tr>\n",
       "                        <th id=\"T_4ff85234_df1e_11e9_b1ed_380025646c1alevel0_row7\" class=\"row_heading level0 row7\" >40+</th>\n",
       "                        <td id=\"T_4ff85234_df1e_11e9_b1ed_380025646c1arow7_col0\" class=\"data row7 col0\" >13</td>\n",
       "                        <td id=\"T_4ff85234_df1e_11e9_b1ed_380025646c1arow7_col1\" class=\"data row7 col1\" >$2.94</td>\n",
       "                        <td id=\"T_4ff85234_df1e_11e9_b1ed_380025646c1arow7_col2\" class=\"data row7 col2\" >$38.24</td>\n",
       "                        <td id=\"T_4ff85234_df1e_11e9_b1ed_380025646c1arow7_col3\" class=\"data row7 col3\" >$2.94</td>\n",
       "            </tr>\n",
       "    </tbody></table>"
      ],
      "text/plain": [
       "<pandas.io.formats.style.Styler at 0x236aa49d5c0>"
      ]
     },
     "execution_count": 95,
     "metadata": {},
     "output_type": "execute_result"
    }
   ],
   "source": [
    "PC = age_grouped[\"Purchase ID\"].count()\n",
    "AVP = age_grouped[\"Price\"].mean()\n",
    "TPV = age_grouped[\"Price\"].sum()\n",
    "AVPP = TPV/PC\n",
    "\n",
    "age_demographics = pd.DataFrame({\"Purchase Count\": PC, \"Average Purchase Price\": AVP,\n",
    "                                 \"Total Purchase Value\":TPV, \"Average Purchase Total per Person\": AVPP})\n",
    "\n",
    "age_demographics.index.name = None\n",
    "\n",
    "age_demographics.style.format({\"Average Purchase Price\":\"${:,.2f}\",\"Total Purchase Value\":\"${:,.2f}\",\"Average Purchase Total per Person\":\"${:,.2f}\"})"
   ]
  },
  {
   "cell_type": "markdown",
   "metadata": {},
   "source": [
    "## Top Spenders"
   ]
  },
  {
   "cell_type": "markdown",
   "metadata": {},
   "source": [
    "* Run basic calculations to obtain the results in the table below\n",
    "\n",
    "\n",
    "* Create a summary data frame to hold the results\n",
    "\n",
    "\n",
    "* Sort the total purchase value column in descending order\n",
    "\n",
    "\n",
    "* Optional: give the displayed data cleaner formatting\n",
    "\n",
    "\n",
    "* Display a preview of the summary data frame\n",
    "\n"
   ]
  },
  {
   "cell_type": "code",
   "execution_count": 96,
   "metadata": {},
   "outputs": [
    {
     "data": {
      "text/html": [
       "<style  type=\"text/css\" >\n",
       "</style><table id=\"T_254d758a_df1f_11e9_9699_380025646c1a\" ><thead>    <tr>        <th class=\"blank level0\" ></th>        <th class=\"col_heading level0 col0\" >Purchase Count</th>        <th class=\"col_heading level0 col1\" >Average Purchase Price</th>        <th class=\"col_heading level0 col2\" >Total Purchase Value</th>    </tr>    <tr>        <th class=\"index_name level0\" >SN</th>        <th class=\"blank\" ></th>        <th class=\"blank\" ></th>        <th class=\"blank\" ></th>    </tr></thead><tbody>\n",
       "                <tr>\n",
       "                        <th id=\"T_254d758a_df1f_11e9_9699_380025646c1alevel0_row0\" class=\"row_heading level0 row0\" >Lisosia93</th>\n",
       "                        <td id=\"T_254d758a_df1f_11e9_9699_380025646c1arow0_col0\" class=\"data row0 col0\" >5</td>\n",
       "                        <td id=\"T_254d758a_df1f_11e9_9699_380025646c1arow0_col1\" class=\"data row0 col1\" >$3.79</td>\n",
       "                        <td id=\"T_254d758a_df1f_11e9_9699_380025646c1arow0_col2\" class=\"data row0 col2\" >$18.96</td>\n",
       "            </tr>\n",
       "            <tr>\n",
       "                        <th id=\"T_254d758a_df1f_11e9_9699_380025646c1alevel0_row1\" class=\"row_heading level0 row1\" >Idastidru52</th>\n",
       "                        <td id=\"T_254d758a_df1f_11e9_9699_380025646c1arow1_col0\" class=\"data row1 col0\" >4</td>\n",
       "                        <td id=\"T_254d758a_df1f_11e9_9699_380025646c1arow1_col1\" class=\"data row1 col1\" >$3.86</td>\n",
       "                        <td id=\"T_254d758a_df1f_11e9_9699_380025646c1arow1_col2\" class=\"data row1 col2\" >$15.45</td>\n",
       "            </tr>\n",
       "            <tr>\n",
       "                        <th id=\"T_254d758a_df1f_11e9_9699_380025646c1alevel0_row2\" class=\"row_heading level0 row2\" >Chamjask73</th>\n",
       "                        <td id=\"T_254d758a_df1f_11e9_9699_380025646c1arow2_col0\" class=\"data row2 col0\" >3</td>\n",
       "                        <td id=\"T_254d758a_df1f_11e9_9699_380025646c1arow2_col1\" class=\"data row2 col1\" >$4.61</td>\n",
       "                        <td id=\"T_254d758a_df1f_11e9_9699_380025646c1arow2_col2\" class=\"data row2 col2\" >$13.83</td>\n",
       "            </tr>\n",
       "            <tr>\n",
       "                        <th id=\"T_254d758a_df1f_11e9_9699_380025646c1alevel0_row3\" class=\"row_heading level0 row3\" >Iral74</th>\n",
       "                        <td id=\"T_254d758a_df1f_11e9_9699_380025646c1arow3_col0\" class=\"data row3 col0\" >4</td>\n",
       "                        <td id=\"T_254d758a_df1f_11e9_9699_380025646c1arow3_col1\" class=\"data row3 col1\" >$3.40</td>\n",
       "                        <td id=\"T_254d758a_df1f_11e9_9699_380025646c1arow3_col2\" class=\"data row3 col2\" >$13.62</td>\n",
       "            </tr>\n",
       "            <tr>\n",
       "                        <th id=\"T_254d758a_df1f_11e9_9699_380025646c1alevel0_row4\" class=\"row_heading level0 row4\" >Iskadarya95</th>\n",
       "                        <td id=\"T_254d758a_df1f_11e9_9699_380025646c1arow4_col0\" class=\"data row4 col0\" >3</td>\n",
       "                        <td id=\"T_254d758a_df1f_11e9_9699_380025646c1arow4_col1\" class=\"data row4 col1\" >$4.37</td>\n",
       "                        <td id=\"T_254d758a_df1f_11e9_9699_380025646c1arow4_col2\" class=\"data row4 col2\" >$13.10</td>\n",
       "            </tr>\n",
       "    </tbody></table>"
      ],
      "text/plain": [
       "<pandas.io.formats.style.Styler at 0x236aa2d0f98>"
      ]
     },
     "execution_count": 96,
     "metadata": {},
     "output_type": "execute_result"
    }
   ],
   "source": [
    "TS_stats = purchase_data.groupby(\"SN\")\n",
    "PC_top = TS_stats[\"Purchase ID\"].count()\n",
    "AVP_top = TS_stats[\"Price\"].mean()\n",
    "TP_top = TS_stats[\"Price\"].sum()\n",
    "\n",
    "top_spenders = pd.DataFrame({\"Purchase Count\": PC_top,\"Average Purchase Price\": AVP_top,\"Total Purchase Value\":TP_top})\n",
    "\n",
    "formatted_spenders = top_spenders.sort_values([\"Total Purchase Value\"], ascending=False).head()\n",
    "\n",
    "formatted_spenders.style.format({\"Average Purchase Total\":\"${:,.2f}\",\"Average Purchase Price\":\"${:,.2f}\", \"Total Purchase Value\":\"${:,.2f}\"})"
   ]
  },
  {
   "cell_type": "markdown",
   "metadata": {},
   "source": [
    "## Most Popular Items"
   ]
  },
  {
   "cell_type": "markdown",
   "metadata": {},
   "source": [
    "* Retrieve the Item ID, Item Name, and Item Price columns\n",
    "\n",
    "\n",
    "* Group by Item ID and Item Name. Perform calculations to obtain purchase count, item price, and total purchase value\n",
    "\n",
    "\n",
    "* Create a summary data frame to hold the results\n",
    "\n",
    "\n",
    "* Sort the purchase count column in descending order\n",
    "\n",
    "\n",
    "* Optional: give the displayed data cleaner formatting\n",
    "\n",
    "\n",
    "* Display a preview of the summary data frame\n",
    "\n"
   ]
  },
  {
   "cell_type": "code",
   "execution_count": 97,
   "metadata": {},
   "outputs": [
    {
     "data": {
      "text/html": [
       "<style  type=\"text/css\" >\n",
       "</style><table id=\"T_6e7f33a4_df20_11e9_8e0e_380025646c1a\" ><thead>    <tr>        <th class=\"blank\" ></th>        <th class=\"blank level0\" ></th>        <th class=\"col_heading level0 col0\" >Purchase Count</th>        <th class=\"col_heading level0 col1\" >Item Price</th>        <th class=\"col_heading level0 col2\" >Total Purchase Value</th>    </tr>    <tr>        <th class=\"index_name level0\" >Item ID</th>        <th class=\"index_name level1\" >Item Name</th>        <th class=\"blank\" ></th>        <th class=\"blank\" ></th>        <th class=\"blank\" ></th>    </tr></thead><tbody>\n",
       "                <tr>\n",
       "                        <th id=\"T_6e7f33a4_df20_11e9_8e0e_380025646c1alevel0_row0\" class=\"row_heading level0 row0\" >178</th>\n",
       "                        <th id=\"T_6e7f33a4_df20_11e9_8e0e_380025646c1alevel1_row0\" class=\"row_heading level1 row0\" >Oathbreaker, Last Hope of the Breaking Storm</th>\n",
       "                        <td id=\"T_6e7f33a4_df20_11e9_8e0e_380025646c1arow0_col0\" class=\"data row0 col0\" >12</td>\n",
       "                        <td id=\"T_6e7f33a4_df20_11e9_8e0e_380025646c1arow0_col1\" class=\"data row0 col1\" >$4.23</td>\n",
       "                        <td id=\"T_6e7f33a4_df20_11e9_8e0e_380025646c1arow0_col2\" class=\"data row0 col2\" >$50.76</td>\n",
       "            </tr>\n",
       "            <tr>\n",
       "                        <th id=\"T_6e7f33a4_df20_11e9_8e0e_380025646c1alevel0_row1\" class=\"row_heading level0 row1\" >145</th>\n",
       "                        <th id=\"T_6e7f33a4_df20_11e9_8e0e_380025646c1alevel1_row1\" class=\"row_heading level1 row1\" >Fiery Glass Crusader</th>\n",
       "                        <td id=\"T_6e7f33a4_df20_11e9_8e0e_380025646c1arow1_col0\" class=\"data row1 col0\" >9</td>\n",
       "                        <td id=\"T_6e7f33a4_df20_11e9_8e0e_380025646c1arow1_col1\" class=\"data row1 col1\" >$4.58</td>\n",
       "                        <td id=\"T_6e7f33a4_df20_11e9_8e0e_380025646c1arow1_col2\" class=\"data row1 col2\" >$41.22</td>\n",
       "            </tr>\n",
       "            <tr>\n",
       "                        <th id=\"T_6e7f33a4_df20_11e9_8e0e_380025646c1alevel0_row2\" class=\"row_heading level0 row2\" >108</th>\n",
       "                        <th id=\"T_6e7f33a4_df20_11e9_8e0e_380025646c1alevel1_row2\" class=\"row_heading level1 row2\" >Extraction, Quickblade Of Trembling Hands</th>\n",
       "                        <td id=\"T_6e7f33a4_df20_11e9_8e0e_380025646c1arow2_col0\" class=\"data row2 col0\" >9</td>\n",
       "                        <td id=\"T_6e7f33a4_df20_11e9_8e0e_380025646c1arow2_col1\" class=\"data row2 col1\" >$3.53</td>\n",
       "                        <td id=\"T_6e7f33a4_df20_11e9_8e0e_380025646c1arow2_col2\" class=\"data row2 col2\" >$31.77</td>\n",
       "            </tr>\n",
       "            <tr>\n",
       "                        <th id=\"T_6e7f33a4_df20_11e9_8e0e_380025646c1alevel0_row3\" class=\"row_heading level0 row3\" >82</th>\n",
       "                        <th id=\"T_6e7f33a4_df20_11e9_8e0e_380025646c1alevel1_row3\" class=\"row_heading level1 row3\" >Nirvana</th>\n",
       "                        <td id=\"T_6e7f33a4_df20_11e9_8e0e_380025646c1arow3_col0\" class=\"data row3 col0\" >9</td>\n",
       "                        <td id=\"T_6e7f33a4_df20_11e9_8e0e_380025646c1arow3_col1\" class=\"data row3 col1\" >$4.90</td>\n",
       "                        <td id=\"T_6e7f33a4_df20_11e9_8e0e_380025646c1arow3_col2\" class=\"data row3 col2\" >$44.10</td>\n",
       "            </tr>\n",
       "            <tr>\n",
       "                        <th id=\"T_6e7f33a4_df20_11e9_8e0e_380025646c1alevel0_row4\" class=\"row_heading level0 row4\" >19</th>\n",
       "                        <th id=\"T_6e7f33a4_df20_11e9_8e0e_380025646c1alevel1_row4\" class=\"row_heading level1 row4\" >Pursuit, Cudgel of Necromancy</th>\n",
       "                        <td id=\"T_6e7f33a4_df20_11e9_8e0e_380025646c1arow4_col0\" class=\"data row4 col0\" >8</td>\n",
       "                        <td id=\"T_6e7f33a4_df20_11e9_8e0e_380025646c1arow4_col1\" class=\"data row4 col1\" >$1.02</td>\n",
       "                        <td id=\"T_6e7f33a4_df20_11e9_8e0e_380025646c1arow4_col2\" class=\"data row4 col2\" >$8.16</td>\n",
       "            </tr>\n",
       "    </tbody></table>"
      ],
      "text/plain": [
       "<pandas.io.formats.style.Styler at 0x236a9842a20>"
      ]
     },
     "execution_count": 97,
     "metadata": {},
     "output_type": "execute_result"
    }
   ],
   "source": [
    "items = purchase_data[[\"Item ID\", \"Item Name\", \"Price\"]]\n",
    "item_stats = items.groupby([\"Item ID\",\"Item Name\"])\n",
    "PC_item = item_stats[\"Price\"].count()\n",
    "PV_item = (item_stats[\"Price\"].sum()) \n",
    "item_price = PV_item/PC_item\n",
    "\n",
    "most_popular_items = pd.DataFrame({\"Purchase Count\": PC_item, \"Item Price\": item_price,\"Total Purchase Value\":PV_item})\n",
    "\n",
    "\n",
    "popular_formatted = most_popular_items.sort_values([\"Purchase Count\"], ascending=False).head()\n",
    "popular_formatted.style.format({\"Item Price\":\"${:,.2f}\",\"Total Purchase Value\":\"${:,.2f}\"})"
   ]
  },
  {
   "cell_type": "markdown",
   "metadata": {},
   "source": [
    "## Most Profitable Items"
   ]
  },
  {
   "cell_type": "markdown",
   "metadata": {},
   "source": [
    "* Sort the above table by total purchase value in descending order\n",
    "\n",
    "\n",
    "* Optional: give the displayed data cleaner formatting\n",
    "\n",
    "\n",
    "* Display a preview of the data frame\n",
    "\n"
   ]
  },
  {
   "cell_type": "code",
   "execution_count": 98,
   "metadata": {
    "scrolled": true
   },
   "outputs": [
    {
     "data": {
      "text/html": [
       "<style  type=\"text/css\" >\n",
       "</style><table id=\"T_8b56a5b0_df20_11e9_a839_380025646c1a\" ><thead>    <tr>        <th class=\"blank\" ></th>        <th class=\"blank level0\" ></th>        <th class=\"col_heading level0 col0\" >Purchase Count</th>        <th class=\"col_heading level0 col1\" >Item Price</th>        <th class=\"col_heading level0 col2\" >Total Purchase Value</th>    </tr>    <tr>        <th class=\"index_name level0\" >Item ID</th>        <th class=\"index_name level1\" >Item Name</th>        <th class=\"blank\" ></th>        <th class=\"blank\" ></th>        <th class=\"blank\" ></th>    </tr></thead><tbody>\n",
       "                <tr>\n",
       "                        <th id=\"T_8b56a5b0_df20_11e9_a839_380025646c1alevel0_row0\" class=\"row_heading level0 row0\" >178</th>\n",
       "                        <th id=\"T_8b56a5b0_df20_11e9_a839_380025646c1alevel1_row0\" class=\"row_heading level1 row0\" >Oathbreaker, Last Hope of the Breaking Storm</th>\n",
       "                        <td id=\"T_8b56a5b0_df20_11e9_a839_380025646c1arow0_col0\" class=\"data row0 col0\" >12</td>\n",
       "                        <td id=\"T_8b56a5b0_df20_11e9_a839_380025646c1arow0_col1\" class=\"data row0 col1\" >$4.23</td>\n",
       "                        <td id=\"T_8b56a5b0_df20_11e9_a839_380025646c1arow0_col2\" class=\"data row0 col2\" >$50.76</td>\n",
       "            </tr>\n",
       "            <tr>\n",
       "                        <th id=\"T_8b56a5b0_df20_11e9_a839_380025646c1alevel0_row1\" class=\"row_heading level0 row1\" >82</th>\n",
       "                        <th id=\"T_8b56a5b0_df20_11e9_a839_380025646c1alevel1_row1\" class=\"row_heading level1 row1\" >Nirvana</th>\n",
       "                        <td id=\"T_8b56a5b0_df20_11e9_a839_380025646c1arow1_col0\" class=\"data row1 col0\" >9</td>\n",
       "                        <td id=\"T_8b56a5b0_df20_11e9_a839_380025646c1arow1_col1\" class=\"data row1 col1\" >$4.90</td>\n",
       "                        <td id=\"T_8b56a5b0_df20_11e9_a839_380025646c1arow1_col2\" class=\"data row1 col2\" >$44.10</td>\n",
       "            </tr>\n",
       "            <tr>\n",
       "                        <th id=\"T_8b56a5b0_df20_11e9_a839_380025646c1alevel0_row2\" class=\"row_heading level0 row2\" >145</th>\n",
       "                        <th id=\"T_8b56a5b0_df20_11e9_a839_380025646c1alevel1_row2\" class=\"row_heading level1 row2\" >Fiery Glass Crusader</th>\n",
       "                        <td id=\"T_8b56a5b0_df20_11e9_a839_380025646c1arow2_col0\" class=\"data row2 col0\" >9</td>\n",
       "                        <td id=\"T_8b56a5b0_df20_11e9_a839_380025646c1arow2_col1\" class=\"data row2 col1\" >$4.58</td>\n",
       "                        <td id=\"T_8b56a5b0_df20_11e9_a839_380025646c1arow2_col2\" class=\"data row2 col2\" >$41.22</td>\n",
       "            </tr>\n",
       "            <tr>\n",
       "                        <th id=\"T_8b56a5b0_df20_11e9_a839_380025646c1alevel0_row3\" class=\"row_heading level0 row3\" >92</th>\n",
       "                        <th id=\"T_8b56a5b0_df20_11e9_a839_380025646c1alevel1_row3\" class=\"row_heading level1 row3\" >Final Critic</th>\n",
       "                        <td id=\"T_8b56a5b0_df20_11e9_a839_380025646c1arow3_col0\" class=\"data row3 col0\" >8</td>\n",
       "                        <td id=\"T_8b56a5b0_df20_11e9_a839_380025646c1arow3_col1\" class=\"data row3 col1\" >$4.88</td>\n",
       "                        <td id=\"T_8b56a5b0_df20_11e9_a839_380025646c1arow3_col2\" class=\"data row3 col2\" >$39.04</td>\n",
       "            </tr>\n",
       "            <tr>\n",
       "                        <th id=\"T_8b56a5b0_df20_11e9_a839_380025646c1alevel0_row4\" class=\"row_heading level0 row4\" >103</th>\n",
       "                        <th id=\"T_8b56a5b0_df20_11e9_a839_380025646c1alevel1_row4\" class=\"row_heading level1 row4\" >Singed Scalpel</th>\n",
       "                        <td id=\"T_8b56a5b0_df20_11e9_a839_380025646c1arow4_col0\" class=\"data row4 col0\" >8</td>\n",
       "                        <td id=\"T_8b56a5b0_df20_11e9_a839_380025646c1arow4_col1\" class=\"data row4 col1\" >$4.35</td>\n",
       "                        <td id=\"T_8b56a5b0_df20_11e9_a839_380025646c1arow4_col2\" class=\"data row4 col2\" >$34.80</td>\n",
       "            </tr>\n",
       "    </tbody></table>"
      ],
      "text/plain": [
       "<pandas.io.formats.style.Styler at 0x236aa4a2fd0>"
      ]
     },
     "execution_count": 98,
     "metadata": {},
     "output_type": "execute_result"
    }
   ],
   "source": [
    "profitable_formatted = most_popular_items.sort_values([\"Total Purchase Value\"],ascending=False).head()\n",
    "profitable_formatted.style.format({\"Item Price\":\"${:,.2f}\",\"Total Purchase Value\":\"${:,.2f}\"})"
   ]
  },
  {
   "cell_type": "code",
   "execution_count": null,
   "metadata": {},
   "outputs": [],
   "source": [
    "#Notes\n",
    "\n",
    "#Men are far more likely to play heros, then women are. A split of 84% to 14% respectivily was observed.\n",
    "#People in the 20-24 age group make up 63% of gameplay, but only 47% of total purchase dollars.\n",
    "#Players in the 35-39 range are ore likely to spend more on the game.\n"
   ]
  }
 ],
 "metadata": {
  "anaconda-cloud": {},
  "kernel_info": {
   "name": "python3"
  },
  "kernelspec": {
   "display_name": "Python 3",
   "language": "python",
   "name": "python3"
  },
  "language_info": {
   "codemirror_mode": {
    "name": "ipython",
    "version": 3
   },
   "file_extension": ".py",
   "mimetype": "text/x-python",
   "name": "python",
   "nbconvert_exporter": "python",
   "pygments_lexer": "ipython3",
   "version": "3.7.3"
  },
  "latex_envs": {
   "LaTeX_envs_menu_present": true,
   "autoclose": false,
   "autocomplete": true,
   "bibliofile": "biblio.bib",
   "cite_by": "apalike",
   "current_citInitial": 1,
   "eqLabelWithNumbers": true,
   "eqNumInitial": 1,
   "hotkeys": {
    "equation": "Ctrl-E",
    "itemize": "Ctrl-I"
   },
   "labels_anchors": false,
   "latex_user_defs": false,
   "report_style_numbering": false,
   "user_envs_cfg": false
  },
  "nteract": {
   "version": "0.2.0"
  }
 },
 "nbformat": 4,
 "nbformat_minor": 2
}
